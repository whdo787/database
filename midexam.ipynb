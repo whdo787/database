{
  "nbformat": 4,
  "nbformat_minor": 0,
  "metadata": {
    "colab": {
      "provenance": [],
      "collapsed_sections": [],
      "authorship_tag": "ABX9TyPMKlfBALYl7G3jHsIjBo04",
      "include_colab_link": true
    },
    "kernelspec": {
      "name": "python3",
      "display_name": "Python 3"
    },
    "language_info": {
      "name": "python"
    }
  },
  "cells": [
    {
      "cell_type": "markdown",
      "metadata": {
        "id": "view-in-github",
        "colab_type": "text"
      },
      "source": [
        "<a href=\"https://colab.research.google.com/github/whdo787/database/blob/main/midexam.ipynb\" target=\"_parent\"><img src=\"https://colab.research.google.com/assets/colab-badge.svg\" alt=\"Open In Colab\"/></a>"
      ]
    },
    {
      "cell_type": "code",
      "execution_count": 119,
      "metadata": {
        "colab": {
          "base_uri": "https://localhost:8080/"
        },
        "id": "gtLGFTUo59YI",
        "outputId": "a797aa39-280d-4abe-8fa2-686370eaf396"
      },
      "outputs": [
        {
          "output_type": "stream",
          "name": "stderr",
          "text": [
            "ERROR:sqlalchemy.pool.impl.NullPool:Exception during reset or similar\n",
            "Traceback (most recent call last):\n",
            "  File \"/usr/local/lib/python3.7/dist-packages/sqlalchemy/pool/base.py\", line 753, in _finalize_fairy\n",
            "    fairy._reset(pool)\n",
            "  File \"/usr/local/lib/python3.7/dist-packages/sqlalchemy/pool/base.py\", line 1004, in _reset\n",
            "    pool._dialect.do_rollback(self)\n",
            "  File \"/usr/local/lib/python3.7/dist-packages/sqlalchemy/engine/default.py\", line 683, in do_rollback\n",
            "    dbapi_connection.rollback()\n",
            "sqlite3.ProgrammingError: SQLite objects created in a thread can only be used in that same thread. The object was created in thread id 140526994491264 and this is thread id 140526571960064.\n",
            "ERROR:sqlalchemy.pool.impl.NullPool:Exception closing connection <sqlite3.Connection object at 0x7fcee311d3b0>\n",
            "Traceback (most recent call last):\n",
            "  File \"/usr/local/lib/python3.7/dist-packages/sqlalchemy/pool/base.py\", line 753, in _finalize_fairy\n",
            "    fairy._reset(pool)\n",
            "  File \"/usr/local/lib/python3.7/dist-packages/sqlalchemy/pool/base.py\", line 1004, in _reset\n",
            "    pool._dialect.do_rollback(self)\n",
            "  File \"/usr/local/lib/python3.7/dist-packages/sqlalchemy/engine/default.py\", line 683, in do_rollback\n",
            "    dbapi_connection.rollback()\n",
            "sqlite3.ProgrammingError: SQLite objects created in a thread can only be used in that same thread. The object was created in thread id 140526994491264 and this is thread id 140526571960064.\n",
            "\n",
            "During handling of the above exception, another exception occurred:\n",
            "\n",
            "Traceback (most recent call last):\n",
            "  File \"/usr/local/lib/python3.7/dist-packages/sqlalchemy/pool/base.py\", line 255, in _close_connection\n",
            "    self._dialect.do_terminate(connection)\n",
            "  File \"/usr/local/lib/python3.7/dist-packages/sqlalchemy/engine/default.py\", line 689, in do_terminate\n",
            "    self.do_close(dbapi_connection)\n",
            "  File \"/usr/local/lib/python3.7/dist-packages/sqlalchemy/engine/default.py\", line 692, in do_close\n",
            "    dbapi_connection.close()\n",
            "sqlite3.ProgrammingError: SQLite objects created in a thread can only be used in that same thread. The object was created in thread id 140526994491264 and this is thread id 140526571960064.\n"
          ]
        }
      ],
      "source": [
        "from sqlalchemy import create_engine\n",
        "my_conn=create_engine(\"sqlite:////content/12171559.db\")\n",
        "conn=my_conn.connect()"
      ]
    },
    {
      "cell_type": "markdown",
      "source": [
        "CREATING TABLES"
      ],
      "metadata": {
        "id": "P5PDfTtYOLm5"
      }
    },
    {
      "cell_type": "code",
      "source": [
        "r_set = my_conn.execute('''\n",
        "CREATE TABLE booking_system\n",
        "(\n",
        "\tbooking_number       CHAR(18) NOT NULL ,\n",
        "\tdriver_license_number CHAR(18) NULL ,\n",
        "\tlanguage             CHAR(18) NULL ,\n",
        "\tpickup_location      CHAR(18) NULL ,\n",
        "\tdrop_location        CHAR(18) NULL ,\n",
        "\tstart_date\tINTEGER NULL,\n",
        "\tfinish_date\tINTEGER NULL,\n",
        "\tVehicle_ID           CHAR(18) NULL,\n",
        "\t\n",
        "\tPRIMARY KEY(booking_number)\n",
        ");\n",
        "\n",
        "\n",
        "\n",
        "''')"
      ],
      "metadata": {
        "id": "RNjQZ8Rs5-QB"
      },
      "execution_count": 120,
      "outputs": []
    },
    {
      "cell_type": "code",
      "source": [
        "r_set = my_conn.execute('''\n",
        "\n",
        "\n",
        "CREATE TABLE driver\n",
        "(\n",
        "\tname                 CHAR(18) NULL ,\n",
        "\tlicense_number       CHAR(18) NOT NULL ,\n",
        "\tclearence_level      INTEGER NULL ,\n",
        "\tFATL_level           INTEGER NULL ,\n",
        "\tSTLVT_level          INTEGER NULL ,\n",
        "\tFATL_date            DATE NULL ,\n",
        "\tSTLVT_date           DATE NULL ,\n",
        "\tlanguage             CHAR(18) NULL,\n",
        "\tPRIMARY KEY(license_number)\n",
        ");\n",
        "\n",
        "\n",
        "''')"
      ],
      "metadata": {
        "id": "ut47f7Uh5-Sx"
      },
      "execution_count": 121,
      "outputs": []
    },
    {
      "cell_type": "code",
      "source": [
        "r_set = my_conn.execute('''\n",
        "\n",
        "CREATE TABLE finished_using\n",
        "(\n",
        "\tbooking_number       CHAR(18) NOT NULL ,\n",
        "\tstart_odometer       CHAR(18) NULL ,\n",
        "\tfinish_odometer      CHAR(18) NULL ,\n",
        "\tstart_date           SMALLDATETIME NULL ,\n",
        "\tfinished_date        SMALLDATETIME NULL ,\n",
        "\tVehicle_ID           CHAR(18) NULL,\n",
        "\tPRIMARY KEY(booking_number)\n",
        ");\n",
        "\n",
        "''')"
      ],
      "metadata": {
        "id": "P6gk6Rlr5-VJ"
      },
      "execution_count": 122,
      "outputs": []
    },
    {
      "cell_type": "code",
      "source": [
        "r_set = my_conn.execute('''\n",
        "\n",
        "CREATE TABLE game_officials\n",
        "(\n",
        "\tcity_id              CHAR(18) NOT NULL ,\n",
        "\tcountry_name         CHAR(18) NULL ,\n",
        "\tname                 CHAR(18) NULL ,\n",
        "\trole                 CHAR(18) NULL ,\n",
        "\tlanguage             CHAR(18) NULL,\n",
        "\tPRIMARY KEY(city_id)\n",
        ");\n",
        "\n",
        "''')"
      ],
      "metadata": {
        "id": "FqyCsmIh5-Xx"
      },
      "execution_count": 123,
      "outputs": []
    },
    {
      "cell_type": "code",
      "source": [
        "r_set = my_conn.execute('''\n",
        "\n",
        "CREATE TABLE ITS\n",
        "(\n",
        "\tVehicle_ID           CHAR(18) NOT NULL ,\n",
        "\tmodel                CHAR(18) NULL ,\n",
        "\tmanufacturer         CHAR(18) NULL ,\n",
        "\tRegistration_ID      CHAR(18) NULL ,\n",
        "  color                CHAR(18) NULL,\n",
        "\todometer             INTEGER NULL ,\n",
        "\tpassenger_capacity   INTEGER NULL,\n",
        "\tPRIMARY KEY(Vehicle_ID)\n",
        ");\n",
        "\n",
        "\n",
        "''')"
      ],
      "metadata": {
        "id": "K47j57Nx5-aR"
      },
      "execution_count": 132,
      "outputs": []
    },
    {
      "cell_type": "code",
      "source": [
        "r_set = my_conn.execute('''\n",
        "\n",
        "CREATE TABLE languages\n",
        "(\n",
        "\tISO_code             CHAR(18) NOT NULL ,\n",
        "\tcharacter_code     CHAR(18) NULL,\n",
        "\tPRIMARY KEY(ISO_code)\n",
        ");\n",
        "''')"
      ],
      "metadata": {
        "id": "peb3-4HE5-cx"
      },
      "execution_count": 125,
      "outputs": []
    },
    {
      "cell_type": "code",
      "source": [
        "r_set = my_conn.execute('''\n",
        "\n",
        "CREATE TABLE maintenance\n",
        "(\n",
        "\tcost                 CHAR(18) NULL ,\n",
        "\tdate                 DATE NULL ,\n",
        "\taction               CHAR(18) NULL ,\n",
        "\todometer             CHAR(18) NULL ,\n",
        "\tVehicle_ID           CHAR(18) NOT NULL,\n",
        "\tPRIMARY KEY(Vehicle_ID)\n",
        ");\n",
        "\n",
        "\n",
        "\n",
        "''')"
      ],
      "metadata": {
        "id": "5VvmEe-c5-fZ"
      },
      "execution_count": 126,
      "outputs": []
    },
    {
      "cell_type": "code",
      "source": [
        "r_set = my_conn.execute('''\n",
        "\n",
        "CREATE TABLE Participating_countries\n",
        "(\n",
        "\tcountry_name         CHAR(18) NOT NULL ,\n",
        "\tnumber_of_participations CHAR(18) NULL ,\n",
        "\tused_language        CHAR(18) NULL \n",
        ");\n",
        "\n",
        "''')"
      ],
      "metadata": {
        "id": "_yzI_EpL5-h5"
      },
      "execution_count": 127,
      "outputs": []
    },
    {
      "cell_type": "code",
      "source": [
        "from sqlalchemy.exc import SQLAlchemyError\n",
        "try: \n",
        "  my_conn.execute(''' DROP table ITS;''')\n",
        "  print( \"student table deleted\")\n",
        "except SQLAlchemyError as e:\n",
        "  error = str(e._dict_['orig'])\n",
        "  print(error)"
      ],
      "metadata": {
        "colab": {
          "base_uri": "https://localhost:8080/"
        },
        "id": "MBGWEWjL6MrY",
        "outputId": "e4e8131b-0ed4-48d0-f586-47be88c15f2d"
      },
      "execution_count": 131,
      "outputs": [
        {
          "output_type": "stream",
          "name": "stdout",
          "text": [
            "student table deleted\n"
          ]
        }
      ]
    },
    {
      "cell_type": "markdown",
      "source": [
        "INSERTING VALUES"
      ],
      "metadata": {
        "id": "cm8T-Om3OGTa"
      }
    },
    {
      "cell_type": "markdown",
      "source": [],
      "metadata": {
        "id": "Sm2ZIP6MOJeR"
      }
    },
    {
      "cell_type": "code",
      "source": [
        "r_set = my_conn.execute('''INSERT INTO 'ITS'\n",
        "('Vehicle_ID',  'Registration_ID',  'manufacturer', 'color', 'model', 'odometer', 'passenger_capacity') VALUES\n",
        "('V1000', '2001 ABC', 'Volvo', 'XC90 SE', 'Silver', 4350, 4),\n",
        "('V1001', '2006 AFD', 'kia', 'k7', 'black', 2195, 4),\n",
        "('V1002', '2021 AHR', 'tesla', '2020 F', 'white', 509, 4),\n",
        "('V1003', '2020 DXF', 'ford', 'Transit', 'Silver', 974, 2)\n",
        ";''')\n",
        "\n",
        "\n",
        "\n",
        "\n"
      ],
      "metadata": {
        "id": "0p3NyfY39zig"
      },
      "execution_count": 133,
      "outputs": []
    },
    {
      "cell_type": "code",
      "source": [
        "r_set = my_conn.execute('''INSERT INTO 'maintenance'\n",
        "('Vehicle_ID',  'action',  'odometer', 'date', 'cost') VALUES\n",
        "('V1000', 'M', '4350', 20220830, 40),\n",
        "('V1001', 'M', '2195', 20220822, 50),\n",
        "('V1002', 'R', '509', 20221010, 900),\n",
        "('V1003', 'R', '974', 20220720, 1300)\n",
        ";''')\n"
      ],
      "metadata": {
        "id": "zzaZt6_59zlA"
      },
      "execution_count": 134,
      "outputs": []
    },
    {
      "cell_type": "code",
      "source": [
        "\n",
        "r_set = my_conn.execute('''INSERT INTO 'game_officials'\n",
        "('city_id', 'country_name', 'name', 'role', 'language') VALUES\n",
        "('KS10243', 'Korea', 'Chulsu', 'physician', 'KR'),\n",
        "('CB21546', 'China', 'xinqiu', 'physician', 'CN'),\n",
        "('FP21241', 'France', 'bonjour', 'coach', 'FR'),\n",
        "('ES31231', 'United states', 'Harison', 'judgement', 'EN'),\n",
        "('ES31246', 'Austrailia', 'Daren', 'physician', 'AU'),\n",
        "('UT42360', 'United states', 'Ronald', 'coach', 'EN'),\n",
        "('JT62015', 'Japan', 'Sakura', 'physician', 'JP')\n",
        ";''')\n",
        "\n"
      ],
      "metadata": {
        "id": "d4wKhE0d9zng"
      },
      "execution_count": 135,
      "outputs": []
    },
    {
      "cell_type": "code",
      "source": [
        "\n",
        "r_set = my_conn.execute('''INSERT INTO 'languages'\n",
        "('ISO_code', 'character_code') VALUES\n",
        "('ISO 3166-2:KR', 'KR'),\n",
        "('ISO 3166-2:JP', 'JP'),\n",
        "('ISO 3166-2:US', 'US'),\n",
        "('ISO 3166-2:CN', 'CN'),\n",
        "('ISO 3166-2:AU', 'AU'),\n",
        "('ISO 3166-2:FR', 'FR')\n",
        ";''')\n"
      ],
      "metadata": {
        "id": "-sVOoAA89zsY"
      },
      "execution_count": 136,
      "outputs": []
    },
    {
      "cell_type": "code",
      "source": [
        "\n",
        "r_set = my_conn.execute('''INSERT INTO 'driver'\n",
        "('name', 'license_number', 'clearence_level', 'FATL_level', 'STLVT_level', 'FATL_date', 'STLVT_date', 'language') VALUES\n",
        "('Youngsu', '23141233', 4, 2, 5, 20200122, 20200130, 'KR'),\n",
        "('Rainer', '31429322', 2, NULL, NULL, NULL, NULL, 'US'),\n",
        "('Jerry', '32130239', 1, NULL, 3, NULL, 20180826, 'FR'),\n",
        "('Sasuke', '8543041', 4, 9, 5, 20170924, 20190321, 'JP'),\n",
        "('hutao', '72314182', 3, NULL, NULL, NULL, NULL, 'CN'),\n",
        "('Morgan', '52325233', 2, 8, NULL, 2013-02-13, NULL, 'AU')\n",
        "\n",
        ";''')"
      ],
      "metadata": {
        "id": "Z_8yVlff9zvI"
      },
      "execution_count": 137,
      "outputs": []
    },
    {
      "cell_type": "code",
      "source": [
        "\n",
        "r_set = my_conn.execute('''INSERT INTO 'booking_system'\n",
        "('booking_number', 'driver_license_number', 'language', 'pickup_location', 'drop_location', 'start_date', 'finish_date', 'Vehicle_ID') VALUES\n",
        "('0000024', '52325233', 'AU', 'Incheon-airport', 'Incheon-airport', 20221021, 20221023, 'V1000'),\n",
        "('0000025', '72314182', 'CN', 'Incheon-airport', 'paradisehotel', 20221022, 20221024, 'V1003')\n",
        ";''')\n"
      ],
      "metadata": {
        "id": "VMNSVps5wGyO"
      },
      "execution_count": 138,
      "outputs": []
    },
    {
      "cell_type": "code",
      "source": [
        "\n",
        "r_set = my_conn.execute('''INSERT INTO 'finished_using'\n",
        "('booking_number', 'start_odometer', 'finish_odometer', 'start_date', 'finished_date', 'Vehicle_ID') VALUES\n",
        "('0000023', '4200', '4350', '2019-12-24 00:00:00', '2019-12-23 00:01:00', 'V1000'),\n",
        "('0000022', '370', '509', '2022-08-10 07:00:00', '2022-08-12 07:00:00', 'V1002')\n",
        ";''')\n",
        "\n",
        "\n",
        "\n"
      ],
      "metadata": {
        "id": "St90nwb7wG8d"
      },
      "execution_count": 139,
      "outputs": []
    },
    {
      "cell_type": "code",
      "source": [
        "r_set = my_conn.execute('''select * from booking_system''')\n",
        "for row in r_set:\n",
        "  print(row)"
      ],
      "metadata": {
        "colab": {
          "base_uri": "https://localhost:8080/"
        },
        "id": "sOMuiI0cJDU6",
        "outputId": "7932b986-206d-406e-9db9-be333cdc4eea"
      },
      "execution_count": 140,
      "outputs": [
        {
          "output_type": "stream",
          "name": "stdout",
          "text": [
            "('0000024', '52325233', 'AU', 'Incheon-airport', 'Incheon-airport', 20221021, 20221023, 'V1000')\n",
            "('0000025', '72314182', 'CN', 'Incheon-airport', 'paradisehotel', 20221022, 20221024, 'V1003')\n"
          ]
        }
      ]
    },
    {
      "cell_type": "code",
      "source": [
        "r_set = my_conn.execute('''select * from ITS''')\n",
        "for row in r_set:\n",
        "  print(row)"
      ],
      "metadata": {
        "colab": {
          "base_uri": "https://localhost:8080/"
        },
        "id": "dOXltIE4JDdx",
        "outputId": "90cfaa4e-6def-4f87-f7b9-4e1e369cb9e6"
      },
      "execution_count": 141,
      "outputs": [
        {
          "output_type": "stream",
          "name": "stdout",
          "text": [
            "('V1000', 'Silver', 'Volvo', '2001 ABC', 'XC90 SE', 4350, 4)\n",
            "('V1001', 'black', 'kia', '2006 AFD', 'k7', 2195, 4)\n",
            "('V1002', 'white', 'tesla', '2021 AHR', '2020 F', 509, 4)\n",
            "('V1003', 'Silver', 'ford', '2020 DXF', 'Transit', 974, 2)\n"
          ]
        }
      ]
    },
    {
      "cell_type": "code",
      "source": [
        "r_set = my_conn.execute('''select * from maintenance''')\n",
        "for row in r_set:\n",
        "  print(row)"
      ],
      "metadata": {
        "colab": {
          "base_uri": "https://localhost:8080/"
        },
        "id": "UQbBxbq5JDgp",
        "outputId": "9d3bc8ea-dc60-4678-9dd7-05e92c3d452d"
      },
      "execution_count": 142,
      "outputs": [
        {
          "output_type": "stream",
          "name": "stdout",
          "text": [
            "('40', 20220830, 'M', '4350', 'V1000')\n",
            "('50', 20220822, 'M', '2195', 'V1001')\n",
            "('900', 20221010, 'R', '509', 'V1002')\n",
            "('1300', 20220720, 'R', '974', 'V1003')\n"
          ]
        }
      ]
    },
    {
      "cell_type": "code",
      "source": [
        "r_set = my_conn.execute('''select * from game_officials''')\n",
        "for row in r_set:\n",
        "  print(row)"
      ],
      "metadata": {
        "colab": {
          "base_uri": "https://localhost:8080/"
        },
        "id": "PAzH4xc1JDjR",
        "outputId": "3e997d51-0c9e-40db-bb25-e9d7686f64ee"
      },
      "execution_count": 143,
      "outputs": [
        {
          "output_type": "stream",
          "name": "stdout",
          "text": [
            "('KS10243', 'Korea', 'Chulsu', 'physician', 'KR')\n",
            "('CB21546', 'China', 'xinqiu', 'physician', 'CN')\n",
            "('FP21241', 'France', 'bonjour', 'coach', 'FR')\n",
            "('ES31231', 'United states', 'Harison', 'judgement', 'EN')\n",
            "('ES31246', 'Austrailia', 'Daren', 'physician', 'AU')\n",
            "('UT42360', 'United states', 'Ronald', 'coach', 'EN')\n",
            "('JT62015', 'Japan', 'Sakura', 'physician', 'JP')\n"
          ]
        }
      ]
    },
    {
      "cell_type": "code",
      "source": [
        "r_set = my_conn.execute('''select * from languages''')\n",
        "for row in r_set:\n",
        "  print(row)"
      ],
      "metadata": {
        "colab": {
          "base_uri": "https://localhost:8080/"
        },
        "id": "FCO8EQe1JDl0",
        "outputId": "75b52bb1-2190-4188-db24-f17c8a35e78e"
      },
      "execution_count": 144,
      "outputs": [
        {
          "output_type": "stream",
          "name": "stdout",
          "text": [
            "('ISO 3166-2:KR', 'KR')\n",
            "('ISO 3166-2:JP', 'JP')\n",
            "('ISO 3166-2:US', 'US')\n",
            "('ISO 3166-2:CN', 'CN')\n",
            "('ISO 3166-2:AU', 'AU')\n",
            "('ISO 3166-2:FR', 'FR')\n"
          ]
        }
      ]
    },
    {
      "cell_type": "code",
      "source": [
        "r_set = my_conn.execute('''select * from driver''')\n",
        "for row in r_set:\n",
        "  print(row)"
      ],
      "metadata": {
        "colab": {
          "base_uri": "https://localhost:8080/"
        },
        "id": "LjyjCskXJDoW",
        "outputId": "72f6e362-e23f-4719-c403-aacf5f28c750"
      },
      "execution_count": 145,
      "outputs": [
        {
          "output_type": "stream",
          "name": "stdout",
          "text": [
            "('Youngsu', '23141233', 4, 2, 5, 20200122, 20200130, 'KR')\n",
            "('Rainer', '31429322', 2, None, None, None, None, 'US')\n",
            "('Jerry', '32130239', 1, None, 3, None, 20180826, 'FR')\n",
            "('Sasuke', '8543041', 4, 9, 5, 20170924, 20190321, 'JP')\n",
            "('hutao', '72314182', 3, None, None, None, None, 'CN')\n",
            "('Morgan', '52325233', 2, 8, None, 1998, None, 'AU')\n"
          ]
        }
      ]
    },
    {
      "cell_type": "code",
      "source": [
        "r_set = my_conn.execute('''select * from finished_using''')\n",
        "for row in r_set:\n",
        "  print(row)"
      ],
      "metadata": {
        "colab": {
          "base_uri": "https://localhost:8080/"
        },
        "id": "JGvebo1zJDqz",
        "outputId": "f4799315-97dd-4608-c154-f304fa7ff20f"
      },
      "execution_count": 146,
      "outputs": [
        {
          "output_type": "stream",
          "name": "stdout",
          "text": [
            "('0000023', '4200', '4350', '2019-12-24 00:00:00', '2019-12-23 00:01:00', 'V1000')\n",
            "('0000022', '370', '509', '2022-08-10 07:00:00', '2022-08-12 07:00:00', 'V1002')\n"
          ]
        }
      ]
    },
    {
      "cell_type": "code",
      "source": [],
      "metadata": {
        "id": "sdfn0yw5JDvy"
      },
      "execution_count": null,
      "outputs": []
    },
    {
      "cell_type": "code",
      "source": [],
      "metadata": {
        "id": "0bJ9aa6HJDyM"
      },
      "execution_count": null,
      "outputs": []
    },
    {
      "cell_type": "markdown",
      "source": [
        "CHECK WHETHER VEHICLE IS AVAILABLE OR NOT"
      ],
      "metadata": {
        "id": "UjXWRDa-OP9S"
      }
    },
    {
      "cell_type": "code",
      "source": [
        "vehicleid= 'V1000'\n",
        "start = 20221020\n",
        "finish = 20221023\n",
        "q= \"Select booking_number FROM booking_system WHERE Vehicle_ID='%s' AND start_date>%d AND start_date < %d\"%(vehicleid, start, finish)\n",
        "p= \"Select booking_number FROM booking_system WHERE Vehicle_ID='%s' and finish_date>%d and finish_date < %d\"%(vehicleid,start,finish)\n",
        "check1=my_conn.execute(q)\n",
        "check2=my_conn.execute(p)\n",
        "for row in check1:\n",
        "  print(row)\n",
        "for row in check2:\n",
        "  print(row)"
      ],
      "metadata": {
        "colab": {
          "base_uri": "https://localhost:8080/"
        },
        "id": "S7Qmmm4DwHCl",
        "outputId": "4bd77584-b2fd-4e3a-b0ac-574d98ecc006"
      },
      "execution_count": 93,
      "outputs": [
        {
          "output_type": "stream",
          "name": "stdout",
          "text": [
            "('0000024',)\n"
          ]
        }
      ]
    },
    {
      "cell_type": "code",
      "source": [],
      "metadata": {
        "id": "sparj73EwHE1"
      },
      "execution_count": null,
      "outputs": []
    },
    {
      "cell_type": "code",
      "source": [],
      "metadata": {
        "id": "W292wI0LwHHV"
      },
      "execution_count": null,
      "outputs": []
    },
    {
      "cell_type": "code",
      "source": [],
      "metadata": {
        "id": "Q46qTG0LwHJl"
      },
      "execution_count": null,
      "outputs": []
    },
    {
      "cell_type": "code",
      "source": [],
      "metadata": {
        "id": "SPMAkWMmwHMu"
      },
      "execution_count": null,
      "outputs": []
    }
  ]
}