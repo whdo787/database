{
  "nbformat": 4,
  "nbformat_minor": 0,
  "metadata": {
    "colab": {
      "provenance": [],
      "authorship_tag": "ABX9TyOYAXLK+Nlu+9SuV1lK663s",
      "include_colab_link": true
    },
    "kernelspec": {
      "name": "python3",
      "display_name": "Python 3"
    },
    "language_info": {
      "name": "python"
    }
  },
  "cells": [
    {
      "cell_type": "markdown",
      "metadata": {
        "id": "view-in-github",
        "colab_type": "text"
      },
      "source": [
        "<a href=\"https://colab.research.google.com/github/whdo787/database/blob/main/db_final_components_ipynb%EC%9D%98_%EC%82%AC%EB%B3%B8.ipynb\" target=\"_parent\"><img src=\"https://colab.research.google.com/assets/colab-badge.svg\" alt=\"Open In Colab\"/></a>"
      ]
    },
    {
      "cell_type": "code",
      "execution_count": 1,
      "metadata": {
        "id": "wd5NHWoS_NXP"
      },
      "outputs": [],
      "source": [
        "from sqlalchemy import create_engine\n",
        "my_conn = create_engine(\"sqlite:////content/.dbver3\")"
      ]
    },
    {
      "cell_type": "code",
      "source": [
        "r_set = my_conn.execute(''' CREATE TABLE \"gpu\" (\n",
        "\t\"id\"\tinteger NOT NULL,\n",
        "\t\"item_id\"\tinteger NOT NULL,\n",
        "\t\"manufacturing\"\ttext,\n",
        "\t\"is_delete\"\tinteger,\n",
        "\t\"chipset\"\tTEXT,\n",
        "\t\"model_name\"\tTEXT,\n",
        "\tPRIMARY KEY(\"id\" AUTOINCREMENT),\n",
        "\tFOREIGN KEY(\"item_id\") REFERENCES \"item\"(\"id\")\n",
        ");''')"
      ],
      "metadata": {
        "id": "OS0aSFZPtKAY"
      },
      "execution_count": 2,
      "outputs": []
    },
    {
      "cell_type": "code",
      "source": [
        "r_set = my_conn.execute('''CREATE TABLE \"cpu\" (\n",
        "\t\"id\"\tinteger NOT NULL,\n",
        "\t\"item_id\"\tinteger NOT NULL,\n",
        "\t\"manufacturing\"\ttext,\n",
        "\t\"clock\"\tinteger,\n",
        "\t\"is_delete\"\tinteger,\n",
        "\t\"model_name\"\tTEXT,\n",
        "\tFOREIGN KEY(\"item_id\") REFERENCES \"item\"(\"id\"),\n",
        "\tPRIMARY KEY(\"id\" AUTOINCREMENT)\n",
        "); ''')"
      ],
      "metadata": {
        "id": "aaL-UAnltKHH"
      },
      "execution_count": 3,
      "outputs": []
    },
    {
      "cell_type": "code",
      "source": [
        "r_set = my_conn.execute(''' CREATE TABLE \"memory\" (\n",
        "\t\"id\"\tinteger NOT NULL,\n",
        "\t\"item_id\"\tinteger NOT NULL,\n",
        "\t\"manufacturing\"\ttext,\n",
        "\t\"is_delete\"\tinteger,\n",
        "\t\"capacity\"\tINTEGER,\n",
        "\t\"model_name\"\tTEXT,\n",
        "\tFOREIGN KEY(\"item_id\") REFERENCES \"item\"(\"id\"),\n",
        "\tPRIMARY KEY(\"id\" AUTOINCREMENT)\n",
        ");''')"
      ],
      "metadata": {
        "id": "iWaIC5patKK_"
      },
      "execution_count": 4,
      "outputs": []
    },
    {
      "cell_type": "code",
      "source": [
        "r_set = my_conn.execute('''CREATE TABLE \"power\" (\n",
        "\t\"id\"\tinteger NOT NULL,\n",
        "\t\"item_id\"\tinteger NOT NULL,\n",
        "\t\"manufacturing\"\ttext,\n",
        "\t\"wattage\"\tinteger,\n",
        "\t\"is_delete\"\tinteger,\n",
        "\t\"model_name\"\tTEXT,\n",
        "\tPRIMARY KEY(\"id\" AUTOINCREMENT),\n",
        "\tFOREIGN KEY(\"item_id\") REFERENCES \"item\"(\"id\")\n",
        "); ''')"
      ],
      "metadata": {
        "id": "0sjH1SfktKNf"
      },
      "execution_count": 5,
      "outputs": []
    },
    {
      "cell_type": "code",
      "source": [
        "\n",
        "r_set = my_conn.execute('''INSERT INTO cpu (item_id, model_name, manufacturing, is_delete, clock ) VALUES\n",
        "(1, 'RYZEN 5600', 'AMD', 0,3),\n",
        "(2, 'RYZEN 5600X', 'AMD',0, 3),\n",
        "(3, 'RYZEN 5800X', 'AMD',0, 4),\n",
        "(4, 'RYZEN 5900X', 'AMD',0, 2),\n",
        "(5, 'RYZEN 7600X', 'AMD',0, 3),\n",
        "(6, 'RYZEN 5950X', 'AMD',0, 5),\n",
        "(7, 'RYZEN 3800X', 'AMD',0, 5),\n",
        "(8, 'RYZEN 3200G', 'AMD',0, 6),\n",
        "(9, 'RYZEN 3700X', 'AMD',0, 7),\n",
        "\n",
        "(10, 'i7-12700F', 'INTEL', 0,3),\n",
        "(11, 'i9-12900K', 'INTEL', 0,4),\n",
        "(12, 'i9-12900KS', 'INTEL',0, 4),\n",
        "(13, 'i9-10900X', 'INTEL',0, 5),\n",
        "(14, 'i9-9900K', 'INTEL', 0,6);\n",
        "''')\n"
      ],
      "metadata": {
        "id": "zDiXCTL7_RrR"
      },
      "execution_count": 6,
      "outputs": []
    },
    {
      "cell_type": "code",
      "source": [
        "\n",
        "r_set = my_conn.execute('''INSERT INTO gpu (item_id, model_name, chipset, manufacturing,  is_delete ) VALUES\n",
        "(1, 'RTX 4090 O24G GAMING OC D6X 24GB', 'RTX 4090', 'ASUS', 0),\n",
        "(2, 'RTX 4080 GAMEROCK OC D6X 16GB', 'RTX 4080', 'EMTEK', 0),\n",
        "(3, 'RTX 3060 Gaming OC V2 D6 12GB', 'RTX 3060', 'GIGABYTE', 0),\n",
        "(4, 'ASUS TUF Gaming GEFORCE RTX 3070 Ti O8G OC D6X 8GB', 'RTX 3070 Ti', 'ASUS', 0),\n",
        "(5, 'GALAX GEFORCE RTX 3060 Ti D6 8GB LHR', 'RTX 3060 Ti', 'GALAX',0),\n",
        "(6, 'ASUS TUF Gaming GEFORCE GTX 1660 SUPER 6G D6 6GB', 'GTX 1660 SUPER', 'ASUS',  0),\n",
        "(7, 'GALAX GEFORCE GTX 1660 Ti BLACK D D6 6GB', 'GTX 1660 Ti', 'GALAX',  0),\n",
        "(8, 'GIGABYTE GEFORCE GTX 1660 UDV OC D5 6GB', 'GTX 1660', 'GIGABYTE', 0), \n",
        "(9, 'ASUS DUAL GEFORCE RTX 2070 SUPER D6 8GB', 'RTX 2070 SUPER', 'ASUS',  0),\n",
        "(10, 'ASUS DUAL GEFORCE RTX 2070 D6 8GB', 'RTX 2070', 'ASUS', 0),\n",
        "(11, 'GIGABYTE GEFORCE GTX 1650 UD2 OC D5 4GB Nano LP', 'GTX 1650', 'GIGABYTE', 0);\n",
        "''')"
      ],
      "metadata": {
        "id": "t3krH9pl_Rtp"
      },
      "execution_count": 7,
      "outputs": []
    },
    {
      "cell_type": "code",
      "source": [
        "r_set = my_conn.execute('''INSERT INTO memory (item_id, model_name, capacity, manufacturing, is_delete) VALUES\n",
        "(1, 'DDR4-3200 8GB', 8, 'SAMSUNG', 0),\n",
        "(2, 'DDR4-3200 16GB', 16, 'SAMSUNG', 0),\n",
        "(3, 'DDR4-3200 32GB', 32, 'SAMSUNG', 0),\n",
        "(4, 'DDR4-3200 4GB', 4, 'SAMSUNG', 0),\n",
        "(5, 'DDR5-4800 16GB', 16, 'SAMSUNG', 0),\n",
        "(6, 'DDR4-4800 8GB', 8, 'SAMSUNG', 0),\n",
        "(7, 'DDR4-4800 32GB', 32, 'SAMSUNG', 0),\n",
        "(8, 'Crucial DDR4-3200 CL22 32GB', 32, 'MICRON', 0),\n",
        "(9, 'Crucial DDR4-3200 CL22 16GB', 16, 'MICRON', 0),\n",
        "(10, 'Crucial DDR4-3200 CL22 8GB', 8, 'MICRON', 0),\n",
        "(11, 'Crucial DDR5-4800 CL40 32GB', 32, 'MICRON', 0),\n",
        "(12, 'Crucial DDR5-4800 CL40 16GB', 16, 'MICRON', 0),\n",
        "(13, 'Crucial DDR5-4800 CL40 8GB', 8, 'MICRON', 0);\n",
        "''')\n"
      ],
      "metadata": {
        "id": "4WgSE9vZuACM"
      },
      "execution_count": 8,
      "outputs": []
    },
    {
      "cell_type": "code",
      "source": [
        "r_set = my_conn.execute('''INSERT INTO power (item_id, model_name, wattage, manufacturing, is_delete) VALUES\n",
        "(1, 'MICRONIX Classic II FULL CHANGE 700W 80PLUS BRONZE 230V EU', 700, 'MICRONIX', 0),\n",
        "(2, 'Egpu 750 GQ 80PLUS GOLD', 750, 'Egpu',  0),\n",
        "(3, 'MICRONIX Classic II FULL CHANGE 600W 80PLUS BRONZE 230V EU', 600, 'MICRONIX', 0),\n",
        "(4, 'MICRONIX Classic II FULL CHANGE 800W 80PLUS BRONZE 230V EU', 800, 'MICRONIX', 0),\n",
        "(5, 'MICRONIX Classic II FULL CHANGE 500W 80PLUS BRONZE 230V EU', 800, 'MICRONIX',  0),\n",
        "(6, 'MICRONIX Classic II 850W 80PLUS GOLD 230V EU', 850, 'MICRONIX', 0),\n",
        "(7, 'MICRONIX Classic II 1050W 80PLUS GOLD 230V EU', 850, 'MICRONIX', 0),\n",
        "(8, 'AcBEL M88-900', 900, 'AcBEL', 0);\n",
        "''')"
      ],
      "metadata": {
        "id": "XCZsO0oyuAGD"
      },
      "execution_count": 9,
      "outputs": []
    },
    {
      "cell_type": "code",
      "source": [
        "r_set = my_conn.execute('''select * from gpu''')\n",
        "for i in r_set:\n",
        "  print(i)"
      ],
      "metadata": {
        "id": "cYjkaXtz_RwB",
        "colab": {
          "base_uri": "https://localhost:8080/"
        },
        "outputId": "f603c2b9-98ab-4f71-fc81-d2c11626bf18"
      },
      "execution_count": 10,
      "outputs": [
        {
          "output_type": "stream",
          "name": "stdout",
          "text": [
            "(1, 1, 'ASUS', 0, 'RTX 4090', 'RTX 4090 O24G GAMING OC D6X 24GB')\n",
            "(2, 2, 'EMTEK', 0, 'RTX 4080', 'RTX 4080 GAMEROCK OC D6X 16GB')\n",
            "(3, 3, 'GIGABYTE', 0, 'RTX 3060', 'RTX 3060 Gaming OC V2 D6 12GB')\n",
            "(4, 4, 'ASUS', 0, 'RTX 3070 Ti', 'ASUS TUF Gaming GEFORCE RTX 3070 Ti O8G OC D6X 8GB')\n",
            "(5, 5, 'GALAX', 0, 'RTX 3060 Ti', 'GALAX GEFORCE RTX 3060 Ti D6 8GB LHR')\n",
            "(6, 6, 'ASUS', 0, 'GTX 1660 SUPER', 'ASUS TUF Gaming GEFORCE GTX 1660 SUPER 6G D6 6GB')\n",
            "(7, 7, 'GALAX', 0, 'GTX 1660 Ti', 'GALAX GEFORCE GTX 1660 Ti BLACK D D6 6GB')\n",
            "(8, 8, 'GIGABYTE', 0, 'GTX 1660', 'GIGABYTE GEFORCE GTX 1660 UDV OC D5 6GB')\n",
            "(9, 9, 'ASUS', 0, 'RTX 2070 SUPER', 'ASUS DUAL GEFORCE RTX 2070 SUPER D6 8GB')\n",
            "(10, 10, 'ASUS', 0, 'RTX 2070', 'ASUS DUAL GEFORCE RTX 2070 D6 8GB')\n",
            "(11, 11, 'GIGABYTE', 0, 'GTX 1650', 'GIGABYTE GEFORCE GTX 1650 UD2 OC D5 4GB Nano LP')\n"
          ]
        }
      ]
    },
    {
      "cell_type": "code",
      "source": [
        "#add data to gpu, cpu, power, memory tables\n",
        "def addcpu(item_id, model_name, manufacturing, clock, is_delete):\n",
        "\n",
        "  my_tuple=(item_id, model_name, manufacturing, clock, is_delete)\n",
        "  q = 'INSERT INTO cpu (item_id, model_name, manufacturing, clock, is_delete) values (?,?,?,?,?)'\n",
        "  r_set = my_conn.execute( q, my_tuple)\n",
        "\n",
        "\n",
        "def addpower(item_id, model_name, wattage, manufacturing, is_delete):\n",
        "\n",
        "  my_tuple= (item_id, model_name, wattage, manufacturing, is_delete)\n",
        "  q = 'INSERT INTO power (item_id, model_name, wattage, manufacturing, is_delete) values (?,?,?,?,?)'\n",
        "  r_set = my_conn.execute( q, my_tuple)\n",
        "\n",
        "\n",
        "\n",
        "\n",
        "\n",
        "\n",
        "def addgpu(item_id, model_name, chipset, manufacturing, is_delete):\n",
        "\n",
        "  my_tuple= (item_id, model_name, chipset, manufacturing, is_delete)\n",
        "  q = 'INSERT INTO gpu (item_id, model_name, chipset, manufacturing, is_delete) values (?,?,?,?,?)'\n",
        "  r_set = my_conn.execute( q, my_tuple)\n",
        "\n",
        "\n",
        "\n",
        "\n",
        "\n",
        "def addmemory(item_id, model_name, capacity, manufacturing, is_delete):\n",
        "\n",
        "  my_tuple= (item_id, model_name, capacity, manufacturing, is_delete)\n",
        "  q = 'INSERT INTO memory (item_id, model_name, capacity, manufacturing, is_delete) values (?,?,?,?,?)'\n",
        "  r_set = my_conn.execute( q, my_tuple)\n",
        "\n",
        "\n",
        "\n",
        "def addcomponent():\n",
        "  \n",
        "   x=int(input('select which to add \\n1. gpu 2. memory 3. cpu 4. power 5.break \\n'))\n",
        "   if x == 1:\n",
        "     item_id = int(input('item_id'))\n",
        "     model_name = input('model name\\n')\n",
        "     manufacturing = input('manufacturing\\n')\n",
        "     is_delete = int(input('is_delete\\n'))\n",
        "     chipset = input('chipset\\n')\n",
        "     addgpu(item_id, model_name, chipset, manufacturing, is_delete)\n",
        "     print('added')\n",
        "     \n",
        "   elif x == 2:\n",
        "     item_id = int(input('item_id'))\n",
        "     model_name = input('model name\\n')\n",
        "     manufacturing = input('manufacturing\\n')\n",
        "     is_delete = int(input('is_delete\\n'))\n",
        "     capacity = int(input('capacity\\n'))\n",
        "     addmemory(item_id, model_name, capacity, manufacturing, is_delete)\n",
        "     print('added')\n",
        "\n",
        "   elif x == 3:\n",
        "     item_id = int(input('item_id'))\n",
        "     model_name = input('model name\\n')\n",
        "     manufacturing = input('manufacturing\\n')\n",
        "     is_delete = int(input('is_delete\\n'))\n",
        "     clock = int(input('clock'))\n",
        "     addcpu(item_id, model_name, manufacturing, clock, is_delete)    \n",
        "     print('added')\n",
        "   elif x == 4:\n",
        "     item_id = int(input('item_id'))\n",
        "     model_name = input('model name\\n')\n",
        "     manufacturing = input('manufacturing\\n')\n",
        "     is_delete = int(input('is_delete\\n')) \n",
        "     wattage = int(input('wattage\\n'))\n",
        "     addpower(item_id, model_name, wattage, manufacturing, is_delete)\n",
        "     print('added')\n",
        "\n",
        "  \n",
        "addcomponent()\n",
        "\n"
      ],
      "metadata": {
        "colab": {
          "base_uri": "https://localhost:8080/"
        },
        "id": "RBxGg9l4vk1D",
        "outputId": "bd131710-f954-4795-bd29-72a6d82a8447"
      },
      "execution_count": 18,
      "outputs": [
        {
          "output_type": "stream",
          "name": "stdout",
          "text": [
            "select which to add \n",
            "1. gpu 2. memory 3. cpu 4. power 5.break \n",
            "1\n",
            "item_id234\n",
            "model name\n",
            "asdf\n",
            "manufacturing\n",
            "INTEL\n",
            "is_delete\n",
            "0\n",
            "chipset\n",
            "RTX\n",
            "added\n"
          ]
        }
      ]
    },
    {
      "cell_type": "code",
      "source": [
        "r_set = my_conn.execute('''select * from gpu''')\n",
        "for i in r_set:\n",
        "  print(i)"
      ],
      "metadata": {
        "colab": {
          "base_uri": "https://localhost:8080/"
        },
        "id": "KZuCX7gtt6o2",
        "outputId": "6387892e-cb00-47ad-9272-7839d1b42548"
      },
      "execution_count": 19,
      "outputs": [
        {
          "output_type": "stream",
          "name": "stdout",
          "text": [
            "(1, 1, 'ASUS', 0, 'RTX 4090', 'RTX 4090 O24G GAMING OC D6X 24GB')\n",
            "(2, 2, 'EMTEK', 0, 'RTX 4080', 'RTX 4080 GAMEROCK OC D6X 16GB')\n",
            "(3, 3, 'GIGABYTE', 0, 'RTX 3060', 'RTX 3060 Gaming OC V2 D6 12GB')\n",
            "(4, 4, 'ASUS', 0, 'RTX 3070 Ti', 'ASUS TUF Gaming GEFORCE RTX 3070 Ti O8G OC D6X 8GB')\n",
            "(5, 5, 'GALAX', 0, 'RTX 3060 Ti', 'GALAX GEFORCE RTX 3060 Ti D6 8GB LHR')\n",
            "(6, 6, 'ASUS', 0, 'GTX 1660 SUPER', 'ASUS TUF Gaming GEFORCE GTX 1660 SUPER 6G D6 6GB')\n",
            "(7, 7, 'GALAX', 0, 'GTX 1660 Ti', 'GALAX GEFORCE GTX 1660 Ti BLACK D D6 6GB')\n",
            "(8, 8, 'GIGABYTE', 0, 'GTX 1660', 'GIGABYTE GEFORCE GTX 1660 UDV OC D5 6GB')\n",
            "(9, 9, 'ASUS', 0, 'RTX 2070 SUPER', 'ASUS DUAL GEFORCE RTX 2070 SUPER D6 8GB')\n",
            "(10, 10, 'ASUS', 0, 'RTX 2070', 'ASUS DUAL GEFORCE RTX 2070 D6 8GB')\n",
            "(11, 11, 'GIGABYTE', 0, 'GTX 1650', 'GIGABYTE GEFORCE GTX 1650 UD2 OC D5 4GB Nano LP')\n",
            "(12, 224, 'AMD', 0, 'RTX4080', 'dafsj')\n",
            "(13, 234, 'INTEL', 0, 'RTX', 'asdf')\n"
          ]
        }
      ]
    },
    {
      "cell_type": "code",
      "source": [
        "#find component that I want from component tables\n",
        "def findcomponent():\n",
        "  x= int(input('1.cpu 2.power 3. memory 4. gpu\\n'))\n",
        "  if x==1:\n",
        "    y = int(input('1.clock 2. manufacturing\\n'))\n",
        "    if y==1:\n",
        "      cl = int(input('insert wanted lowest clock\\n'))\n",
        "      q = 'select item_id, model_name, manufacturing, clock, is_delete from cpu where clock >= (?)'\n",
        "      r_set = my_conn.execute(q,cl)\n",
        "      for i in r_set:\n",
        "        print(i)\n",
        "    elif y==2:\n",
        "      q = 'select item_id, model_name, manufacturing, clock, is_delete from cpu where manufacturing = (?)'\n",
        "      ma = input('insert wanted -manufacturer')      \n",
        "      r_set = my_conn.execute(q,ma)\n",
        "      for i in r_set:\n",
        "        print(i)\n",
        "  elif x==2:\n",
        "    y = int(input('1.wattage 2. manufacturing\\n'))\n",
        "    if y==1:\n",
        "      cl = int(input('insert wanted wattage\\n'))\n",
        "      q = 'select item_id, model_name, manufacturing, wattage, is_delete from power where wattage == (?)'\n",
        "      r_set = my_conn.execute(q,cl)\n",
        "      for i in r_set:\n",
        "        print(i)\n",
        "    elif y==2:\n",
        "      q = 'select item_id, model_name, manufacturing, wattage, is_delete from power where manufacturing = (?)'\n",
        "      ma = input('insert wanted manufacturer\\n')      \n",
        "      r_set = my_conn.execute(q,ma)\n",
        "      for i in r_set:\n",
        "        print(i)\n",
        "  elif x==3:\n",
        "    y = int(input('1.capacity 2. manufacturing\\n'))\n",
        "    if y==1:\n",
        "      cl = int(input('insert wanted lowest capacity\\n'))\n",
        "      q = 'select item_id, model_name, manufacturing, capacity, is_delete from memory where capacity >= (?)'\n",
        "      r_set = my_conn.execute(q,cl)\n",
        "      for i in r_set:\n",
        "        print(i)\n",
        "    elif y==2:\n",
        "      q = 'select item_id, model_name, manufacturing, capacity, is_delete from memory where manufacturing = (?)'\n",
        "      ma = input('insert wanted manufacturer\\n')      \n",
        "      r_set = my_conn.execute(q,ma)\n",
        "      for i in r_set:\n",
        "        print(i)\n",
        "  elif x==4:\n",
        "    y = int(input('1.chipset 2. manufacturing\\n'))\n",
        "    if y==1:\n",
        "      cl = input('insert wanted chipset\\n')\n",
        "      q = 'select item_id, model_name, manufacturing, chipset, is_delete from gpu where chipset == (?)'\n",
        "      r_set = my_conn.execute(q,cl)\n",
        "      for i in r_set:\n",
        "        print(i)\n",
        "    elif y==2:\n",
        "      q = 'select item_id, model_name, manufacturing, chipset, is_delete from gpu where manufacturing = (?)'\n",
        "      ma = input('insert wanted manufacturer\\n')      \n",
        "      r_set = my_conn.execute(q,ma)\n",
        "      for i in r_set:\n",
        "        print(i)\n",
        "  else :\n",
        "    print('error')\n",
        "        \n",
        "findcomponent()"
      ],
      "metadata": {
        "colab": {
          "base_uri": "https://localhost:8080/"
        },
        "id": "bhL8BlSXvk37",
        "outputId": "f3455943-b8a9-4761-d869-c24092e97fce"
      },
      "execution_count": 20,
      "outputs": [
        {
          "output_type": "stream",
          "name": "stdout",
          "text": [
            "1.cpu 2.power 3. memory 4. gpu\n",
            "1\n",
            "1.clock 2. manufacturing\n",
            "1\n",
            "insert wanted lowest clock\n",
            "3\n",
            "(1, 'RYZEN 5600', 'AMD', 3, 0)\n",
            "(2, 'RYZEN 5600X', 'AMD', 3, 0)\n",
            "(3, 'RYZEN 5800X', 'AMD', 4, 0)\n",
            "(5, 'RYZEN 7600X', 'AMD', 3, 0)\n",
            "(6, 'RYZEN 5950X', 'AMD', 5, 0)\n",
            "(7, 'RYZEN 3800X', 'AMD', 5, 0)\n",
            "(8, 'RYZEN 3200G', 'AMD', 6, 0)\n",
            "(9, 'RYZEN 3700X', 'AMD', 7, 0)\n",
            "(10, 'i7-12700F', 'INTEL', 3, 0)\n",
            "(11, 'i9-12900K', 'INTEL', 4, 0)\n",
            "(12, 'i9-12900KS', 'INTEL', 4, 0)\n",
            "(13, 'i9-10900X', 'INTEL', 5, 0)\n",
            "(14, 'i9-9900K', 'INTEL', 6, 0)\n"
          ]
        }
      ]
    }
  ]
}