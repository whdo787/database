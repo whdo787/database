{
  "nbformat": 4,
  "nbformat_minor": 0,
  "metadata": {
    "colab": {
      "provenance": [],
      "authorship_tag": "ABX9TyMAYm4N8inKU1dVdcgnuGBn",
      "include_colab_link": true
    },
    "kernelspec": {
      "name": "python3",
      "display_name": "Python 3"
    },
    "language_info": {
      "name": "python"
    }
  },
  "cells": [
    {
      "cell_type": "markdown",
      "metadata": {
        "id": "view-in-github",
        "colab_type": "text"
      },
      "source": [
        "<a href=\"https://colab.research.google.com/github/whdo787/database/blob/main/db_final_components.ipynb\" target=\"_parent\"><img src=\"https://colab.research.google.com/assets/colab-badge.svg\" alt=\"Open In Colab\"/></a>"
      ]
    },
    {
      "cell_type": "code",
      "execution_count": 1,
      "metadata": {
        "id": "wd5NHWoS_NXP"
      },
      "outputs": [],
      "source": [
        "from sqlalchemy import create_engine\n",
        "my_conn = create_engine(\"sqlite:////content/my_db.db\")"
      ]
    },
    {
      "cell_type": "code",
      "source": [
        "r_set=my_conn.execute('''CREATE TABLE \"HDD\" (\n",
        "\t\"ID\"\tTEXT NOT NULL,\n",
        "\t\"model_name\"\tTEXT,\n",
        "\t\"company\"\tTEXT,\n",
        "\t\"capacity_TB\"\tTEXT,\n",
        "\t\"price\"\tINTEGER,\n",
        "\t\"stock\"\tINTEGER,\n",
        "\tPRIMARY KEY(\"ID\")\n",
        ");\n",
        "''')"
      ],
      "metadata": {
        "id": "v-0uo3OI_Q1p"
      },
      "execution_count": 2,
      "outputs": []
    },
    {
      "cell_type": "code",
      "source": [
        "r_set=my_conn.execute('''CREATE TABLE \"RAM\" (\n",
        "\t\"ID\"\tTEXT NOT NULL,\n",
        "\t\"model_name\"\tTEXT,\n",
        "\t\"capacity\"\tINTEGER,\n",
        "\t\"company\"\tTEXT,\n",
        "\t\"price\"\tINTEGER,\n",
        "\t\"stock\"\tINTEGER,\n",
        "\tPRIMARY KEY(\"ID\")\n",
        ");\n",
        "''')"
      ],
      "metadata": {
        "id": "KWtH3kl0_Q4B"
      },
      "execution_count": 3,
      "outputs": []
    },
    {
      "cell_type": "code",
      "source": [
        "r_set=my_conn.execute('''CREATE TABLE \"SSD\" (\n",
        "\t\"ID\"\tTEXT NOT NULL,\n",
        "\t\"model_name\"\tTEXT,\n",
        "\t\"capacity\"\tTEXT,\n",
        "\t\"company\"\tTEXT,\n",
        "\t\"price\"\tINTEGER,\n",
        "\t\"stock\"\tINTEGER,\n",
        "\tPRIMARY KEY(\"ID\")\n",
        ");\n",
        "''')"
      ],
      "metadata": {
        "id": "T6xJ8uja_Q6R"
      },
      "execution_count": 4,
      "outputs": []
    },
    {
      "cell_type": "code",
      "source": [
        "r_set=my_conn.execute('''CREATE TABLE \"VGA\" (\n",
        "\t\"ID\"\tTEXT NOT NULL,\n",
        "\t\"model_name\"\tTEXT,\n",
        "\t\"chipset\"\tTEXT,\n",
        "\t\"company\"\tTEXT,\n",
        "\t\"price\"\tINTEGER,\n",
        "\t\"stock\"\tINTEGER,\n",
        "\tPRIMARY KEY(\"ID\")\n",
        ");\n",
        "''')"
      ],
      "metadata": {
        "id": "hgA_irBz_Q9B"
      },
      "execution_count": 5,
      "outputs": []
    },
    {
      "cell_type": "code",
      "source": [
        "r_set=my_conn.execute('''CREATE TABLE \"computer_case\" (\n",
        "\t\"ID\"\tTEXT NOT NULL,\n",
        "\t\"model_name\"\tTEXT,\n",
        "\t\"company\"\tTEXT,\n",
        "\t\"color\"\tTEXT,\n",
        "\t\"price\"\tINTEGER,\n",
        "\t\"stock\"\tINTEGER,\n",
        "\tPRIMARY KEY(\"ID\")\n",
        ");\n",
        "''')"
      ],
      "metadata": {
        "id": "5uf6ecMK_Q_h"
      },
      "execution_count": 6,
      "outputs": []
    },
    {
      "cell_type": "code",
      "source": [
        "r_set=my_conn.execute('''CREATE TABLE \"cpu\" (\n",
        "\t\"ID\"\tTEXT NOT NULL,\n",
        "\t\"model_name\"\tTEXT,\n",
        "\t\"company\"\tTEXT,\n",
        "\t\"price\"\tINTEGER,\n",
        "\t\"stock\"\tINTEGER,\n",
        "\tPRIMARY KEY(\"ID\")\n",
        ");\n",
        "''')"
      ],
      "metadata": {
        "id": "ajuuJft3_RB5"
      },
      "execution_count": 7,
      "outputs": []
    },
    {
      "cell_type": "code",
      "source": [
        "r_set=my_conn.execute('''CREATE TABLE \"mainboard\" (\n",
        "\t\"ID\"\tTEXT NOT NULL,\n",
        "\t\"model_name\"\tTEXT,\n",
        "\t\"company\"\tTEXT,\n",
        "\t\"price\"\tINTEGER,\n",
        "\t\"stock\"\tINTEGER,\n",
        "\tPRIMARY KEY(\"ID\")\n",
        ");\n",
        "''')"
      ],
      "metadata": {
        "id": "dlqP0bAa_RER"
      },
      "execution_count": 8,
      "outputs": []
    },
    {
      "cell_type": "code",
      "source": [
        "r_set=my_conn.execute('''CREATE TABLE \"power_supply\" (\n",
        "\t\"ID\"\tTEXT NOT NULL,\n",
        "\t\"model_name\"\tTEXT,\n",
        "\t\"company\"\tTEXT,\n",
        "\t\"power\"\tINTEGER,\n",
        "\t\"price\"\tINTEGER,\n",
        "\t\"stock\"\tINTEGER,\n",
        "\tPRIMARY KEY(\"ID\")\n",
        ");\n",
        "''')\n"
      ],
      "metadata": {
        "id": "HWdDcc6P_RGp"
      },
      "execution_count": 9,
      "outputs": []
    },
    {
      "cell_type": "code",
      "source": [
        "r_set = my_conn.execute('''INSERT INTO cpu (id, model_name, company, price, stock) VALUES\n",
        "('C0001', 'RYZEN 5600', 'AMD', 170000, 100),\n",
        "('C0002', 'RYZEN 5600X', 'AMD', 210000, 100),\n",
        "('C0003', 'RYZEN 5800X', 'AMD', 444000, 100),\n",
        "('C0004', 'RYZEN 5900X', 'AMD', 525000, 100),\n",
        "('C0005', 'RYZEN 7600X', 'AMD', 380000, 100),\n",
        "('C0006', 'RYZEN 5950X', 'AMD', 660000, 100),\n",
        "('C0007', 'RYZEN 3800X', 'AMD', 440000, 100),\n",
        "('C0008', 'RYZEN 3200G', 'AMD', 126000, 100),\n",
        "('C0009', 'RYZEN 3700X', 'AMD', 829000, 100),\n",
        "('C0010', 'RYZEN 3900X', 'AMD', 626000, 100),\n",
        "('C0011', 'RYZEN 3400X', 'AMD', 460000, 100),\n",
        "('C0012', 'RYZEN 2700X', 'AMD', 460000, 100),\n",
        "('C0013', 'RYZEN THREADREAPER PRO 3955WX', 'AMD', 1680000, 100),\n",
        "('C0014', 'RYZEN THREADREAPER PRO 5965WX', 'AMD', 3720000, 100),\n",
        "('C0015', 'RYZEN THREADREAPER PRO 5975WX', 'AMD', 5400000, 100),\n",
        "('C0016', 'i9-13900K', 'INTEL', 860000, 100),\n",
        "('C0017', 'i7-13700K', 'INTEL', 560000, 100),\n",
        "('C0018', 'i5-12400F', 'INTEL', 208000, 100),\n",
        "('C0019', 'i5-13600KF', 'INTEL', 420000, 100),\n",
        "('C0020', 'i7-13700KF', 'INTEL', 520000, 100),\n",
        "('C0021', 'i3-12100', 'INTEL', 168000, 100),\n",
        "('C0022', 'i9-13900KF', 'INTEL', 780000, 100),\n",
        "('C0023', 'i5-2400', 'INTEL', 250000, 100),\n",
        "('C0024', 'i5-12100F', 'INTEL', 127000, 100),\n",
        "('C0025', 'i7-12700F', 'INTEL', 423000, 100),\n",
        "('C0026', 'i9-12900K', 'INTEL', 700000, 100),\n",
        "('C0027', 'i9-12900KS', 'INTEL', 950000, 100),\n",
        "('C0028', 'i9-10900X', 'INTEL', 930000, 100),\n",
        "('C0029', 'i9-10980XE', 'INTEL', 1500000, 100),\n",
        "('C0030', 'i9-9900K', 'INTEL', 1650000, 100);\n",
        "''')\n"
      ],
      "metadata": {
        "id": "rkHobaRe_RJB"
      },
      "execution_count": 10,
      "outputs": []
    },
    {
      "cell_type": "code",
      "source": [
        "\n",
        "r_set = my_conn.execute('''INSERT INTO VGA (ID, model_name, chipset, company, price, stock) VALUES\n",
        "('G0001', 'RTX 4090 O24G GAMING OC D6X 24GB', 'RTX 4090', 'ASUS', 3600000, 100),\n",
        "('G0002', 'RTX 4080 GAMEROCK OC D6X 16GB', 'RTX 4080', 'EMTEK', 1900000, 100),\n",
        "('G0003', 'RTX 3060 Gaming OC V2 D6 12GB', 'RTX 3060', 'GIGABYTE', 460000, 100),\n",
        "('G0004', 'ASUS TUF Gaming GEFORCE RTX 3070 Ti O8G OC D6X 8GB', 'RTX 3070 Ti', 'ASUS', 1000000, 100),\n",
        "('G0005', 'GALAX GEFORCE RTX 3060 Ti D6 8GB LHR', 'RTX 3060 Ti', 'GALAX', 570000, 100),\n",
        "('G0006', 'ASUS TUF Gaming GEFORCE GTX 1660 SUPER 6G D6 6GB', 'GTX 1660 SUPER', 'ASUS', 290000, 100),\n",
        "('G0007', 'GALAX GEFORCE GTX 1660 Ti BLACK D D6 6GB', 'GTX 1660 Ti', 'GALAX', 330000, 100),\n",
        "('G0008', 'GIGABYTE GEFORCE GTX 1660 UDV OC D5 6GB', 'GTX 1660', 'GIGABYTE', 320000, 100), \n",
        "('G0009', 'ASUS DUAL GEFORCE RTX 2070 SUPER D6 8GB', 'RTX 2070 SUPER', 'ASUS', 800000, 100),\n",
        "('G0011', 'ASUS DUAL GEFORCE RTX 2070 D6 8GB', 'RTX 2070', 'ASUS', 600000, 100),\n",
        "('G0012', 'GIGABYTE GEFORCE GTX 1650 UD2 OC D5 4GB Nano LP', 'GTX 1650', 'GIGABYTE', 220000, 100);\n",
        "''')\n"
      ],
      "metadata": {
        "id": "i-yxRYFV_RLZ"
      },
      "execution_count": 11,
      "outputs": []
    },
    {
      "cell_type": "code",
      "source": [
        "r_set = my_conn.execute('''INSERT INTO RAM (ID, model_name, capacity, company, price, stock) VALUES\n",
        "('R0001', 'DDR4-3200 8GB', 8, 'SAMSUNG', 25000, 100),\n",
        "('R0002', 'DDR4-3200 16GB', 16, 'SAMSUNG', 52000, 100),\n",
        "('R0003', 'DDR4-3200 32GB', 32, 'SAMSUNG', 108000, 100),\n",
        "('R0004', 'DDR4-3200 4GB', 4, 'SAMSUNG', 21000, 100),\n",
        "('R0005', 'DDR5-4800 16GB', 16, 'SAMSUNG', 65000, 100),\n",
        "('R0006', 'DDR4-4800 8GB', 8, 'SAMSUNG', 36000, 100),\n",
        "('R0007', 'DDR4-4800 32GB', 32, 'SAMSUNG', 137000, 100),\n",
        "('R0008', 'Crucial DDR4-3200 CL22 32GB', 32, 'MICRON', 114000, 100),\n",
        "('R0009', 'Crucial DDR4-3200 CL22 16GB', 16, 'MICRON', 55000, 100),\n",
        "('R0010', 'Crucial DDR4-3200 CL22 8GB', 8, 'MICRON', 26000, 100),\n",
        "('R0011', 'Crucial DDR5-4800 CL40 32GB', 32, 'MICRON', 166000, 100),\n",
        "('R0012', 'Crucial DDR5-4800 CL40 16GB', 16, 'MICRON', 69000, 100),\n",
        "('R0013', 'Crucial DDR5-4800 CL40 8GB', 8, 'MICRON', 34000, 100);\n",
        "''')\n"
      ],
      "metadata": {
        "id": "6jQ48MYq_RN5"
      },
      "execution_count": 12,
      "outputs": []
    },
    {
      "cell_type": "code",
      "source": [
        "\n",
        "r_set = my_conn.execute('''INSERT INTO SSD (ID, model_name, capacity, company, price, stock) VALUES\n",
        "('S0001', 'PM9A1 M.2 NVMe 250GB', 250, 'SAMSUNG', 37800, 100),\n",
        "('S0002', 'PM9A1 M.2 NVMe 500GB', 500, 'SAMSUNG', 69000, 100),\n",
        "('S0003', 'PM9A1 M.2 NVMe 1TB', 1000, 'SAMSUNG', 112800, 100),\n",
        "('S0004', 'PM9A1 M.2 NVMe 2TB', 2000, 'SAMSUNG', 238800, 100),\n",
        "('S0005', '870 EVO  250GB', 250, 'SAMSUNG', 42000, 100),\n",
        "('S0006', '870 EVO  500GB', 500, 'SAMSUNG', 63000, 100),\n",
        "('S0007', '870 EVO  1TB', 1000, 'SAMSUNG', 123000, 100),\n",
        "('S0008', '870 EVO  2TB', 2000, 'SAMSUNG', 267000, 100),\n",
        "('S0009', '870 EVO  4TB', 4000, 'SAMSUNG', 538800, 100),\n",
        "('S0010', 'Crucial MX500 250GB', 250, 'MICRON', 42000, 100),\n",
        "('S0011', 'Crucial MX500 500GB', 500, 'MICRON', 56000, 100),\n",
        "('S0012', 'Crucial MX500 1TB', 1000, 'MICRON', 100000, 100),\n",
        "('S0013', 'Crucial MX500 2TB', 2000, 'MICRON', 200000, 100),\n",
        "('S0014', 'Crucial MX500 4TB', 4000, 'MICRON', 430000, 100) ,\n",
        "('S0015', 'Crucial P5 Plus M.2 NVMe 500GB', 500, 'MICRON', 88000, 100),\n",
        "('S0016', 'Crucial P5 Plus M.2 NVMe 1TB', 1000, 'MICRON', 157000, 100),\n",
        "('S0017', 'Crucial P5 Plus M.2 NVMe 2TB', 2000, 'MICRON', 316000, 100)\n",
        ";\n",
        "''')"
      ],
      "metadata": {
        "id": "pIQfzpxU_RQS"
      },
      "execution_count": 13,
      "outputs": []
    },
    {
      "cell_type": "code",
      "source": [
        "r_set = my_conn.execute('''INSERT INTO power_supply (ID, model_name, power, company, price, stock) VALUES\n",
        "('M0001', 'MICRONIX Classic II FULL CHANGE 700W 80PLUS BRONZE 230V EU', 700, 'MICRONIX', 78000, 100),\n",
        "('M0002', 'EVGA 750 GQ 80PLUS GOLD', 750, 'EVGA', 124000, 100),\n",
        "('M0003', 'MICRONIX Classic II FULL CHANGE 600W 80PLUS BRONZE 230V EU', 600, 'MICRONIX', 61000, 100),\n",
        "('M0004', 'MICRONIX Classic II FULL CHANGE 800W 80PLUS BRONZE 230V EU', 800, 'MICRONIX', 92000, 100),\n",
        "('M0005', 'MICRONIX Classic II FULL CHANGE 500W 80PLUS BRONZE 230V EU', 800, 'MICRONIX', 52000, 100),\n",
        "('M0006', 'MICRONIX Classic II 850W 80PLUS GOLD 230V EU', 850, 'MICRONIX', 159000, 100),\n",
        "('M0007', 'MICRONIX Classic II 1050W 80PLUS GOLD 230V EU', 850, 'MICRONIX', 209000, 100),\n",
        "('M0008', 'AcBEL M88-900', 900, 'AcBEL', 120000, 100);\n",
        "''')\n"
      ],
      "metadata": {
        "id": "pzAvWXqc_RSp"
      },
      "execution_count": 14,
      "outputs": []
    },
    {
      "cell_type": "code",
      "source": [
        "r_set = my_conn.execute('''INSERT INTO HDD (ID, model_name, capacity_TB, company, price, stock) VALUES\n",
        "('H0001', 'ST8000DM004', 8, 'Seagate', 166000, 100),\n",
        "('H0002', 'ST6000DM004', 6, 'Seagate', 161000, 100),\n",
        "('H0003', 'ST4000DM004', 4, 'Seagate', 106000, 100),\n",
        "('H0004', 'ST3000DM004', 3, 'Seagate', 120000, 100),\n",
        "('H0005', 'WD20EZAZ', 2, 'Western Digital', 78000, 100),\n",
        "('H0006', 'ST1000DM003', 1, 'Seagate', 54000, 100),\n",
        "('H0007', 'ST14000DM001', 14, 'Seagate', 1180000, 100),\n",
        "('H0008', 'HDWR11A', 10, 'Toshiba', 370000, 100),\n",
        "('H0009', 'ST20000NE000', 20, 'Seagate', 890000, 100),\n",
        "('H0010', 'WUH722020ALE6L4', 40, 'Western Digital', 1600000, 100),\n",
        "('H0011', 'WD30EZAZ', 3, 'Western Digital', 114800, 100),\n",
        "('H0012', 'WD40EZAZ', 4, 'Western Digital', 99000, 100),\n",
        "('H0013', 'HDWD110', 1, 'Toshiba', 63000, 100)\n",
        ";''')\n",
        "\n"
      ],
      "metadata": {
        "id": "WXcCoRsa_RVJ"
      },
      "execution_count": 15,
      "outputs": []
    },
    {
      "cell_type": "code",
      "source": [
        "\n",
        "r_set = my_conn.execute('''INSERT INTO mainboard (ID, model_name, company, price, stock) VALUES\n",
        "('M0001', 'BIOSTAR H610MH D4', 'BIOSTAR', 93000, 100),\n",
        "('M0002', 'GIGABYTE B660M DS3H D4', 'GIGABYTE', 138000, 100),\n",
        "('M0003', 'GIGABYTE H610M H D4', 'GIGABYTE', 105000, 100),\n",
        "('M0004', 'ASRock B660M Pro RS D4', 'ASROCK', 160000, 100),\n",
        "('M0005', 'ASUS PRIME A520M-K', 'ASUS', 82000, 100),\n",
        "('M0006', 'ASUS TUF Gaming B450M-PLUS II', 'ASUS', 115000, 100),\n",
        "('M0007', 'ASUS PRIME B550M-A', 'ASUS', 140000, 100),\n",
        "('M0008', 'ASUS TUF Gaming B550M-PLUS STCOM', 'ASUS', 190000, 100),\n",
        "('M0009', 'GIGABYTE Z790 AORUS ELITE', 'GIGABYTE', 390000, 100),\n",
        "('M0010', 'ASUS PRIME B660M-K D4', 'ASUS', 137000, 100),\n",
        "('M0011', 'ASUS EX A320M-GAMING', 'STCOM', 97000, 100),\n",
        "('M0012', 'ASRock B550M PRO4', 'ASROCK', 148000, 100),\n",
        "('M0013', 'ASUS TUF Gaming B550-PRO', 'ASUS', 200000, 100),\n",
        "('M0014', 'GIGABYTE Z790 AORUS ELITE', 'GIGABYTE', 466000, 100),\n",
        "('M0015', 'ASUS PRIME Z790-P-CSM', 'ASUS', 438000, 100),\n",
        "('M0016', 'ASUS PRIME Z790-P D4-CSM', 'ASUS', 340000, 100)\n",
        ";''')\n"
      ],
      "metadata": {
        "id": "iWsJRQ-g_RXZ"
      },
      "execution_count": 16,
      "outputs": []
    },
    {
      "cell_type": "code",
      "source": [
        "r_set = my_conn.execute('''INSERT INTO computer_case (ID, model_name, company, color, price, stock) VALUES\n",
        "('K0001', 'DAVEN D6 MESH', 'DAVEN', 'black', 39000, 100),\n",
        "('K0002', 'SUITMASTER P3000 ZEUS ARGB', 'ABKO', 'black', 83000, 100),\n",
        "('K0003', 'ABKO G40', 'ABKO', 'white', 60000, 100),\n",
        "('K0004', 'darkFlash DLX21 RGB MESH', 'ASROCK', 'white', 93000, 100),\n",
        "('K0005', 'NCORE G30', 'ABKO', 'black', 48000, 100),\n",
        "('K0006', 'NCORE G40', 'ABKO', 'white', 59000, 100),\n",
        "('K0007', 'darkFlash DLM21 RGB MESH', 'DAVEN', 'pink', 54000, 100),\n",
        "('K0008', 'SUITMASTER P1000', 'ABKO', 'white', 79000, 100)\n",
        ";''')"
      ],
      "metadata": {
        "id": "7o0B6PPf_RaB"
      },
      "execution_count": 17,
      "outputs": []
    },
    {
      "cell_type": "code",
      "source": [],
      "metadata": {
        "id": "RPU2xR4P_RcZ"
      },
      "execution_count": null,
      "outputs": []
    },
    {
      "cell_type": "code",
      "source": [],
      "metadata": {
        "id": "jdxthiiL_RfB"
      },
      "execution_count": null,
      "outputs": []
    },
    {
      "cell_type": "code",
      "source": [],
      "metadata": {
        "id": "w_mXdQZI_RhZ"
      },
      "execution_count": null,
      "outputs": []
    },
    {
      "cell_type": "code",
      "source": [],
      "metadata": {
        "id": "8BR9aMqb_Rjx"
      },
      "execution_count": null,
      "outputs": []
    },
    {
      "cell_type": "code",
      "source": [],
      "metadata": {
        "id": "SYN7SoM5_RmZ"
      },
      "execution_count": null,
      "outputs": []
    },
    {
      "cell_type": "code",
      "source": [],
      "metadata": {
        "id": "AauiBdGV_Roy"
      },
      "execution_count": null,
      "outputs": []
    },
    {
      "cell_type": "code",
      "source": [],
      "metadata": {
        "id": "zDiXCTL7_RrR"
      },
      "execution_count": null,
      "outputs": []
    },
    {
      "cell_type": "code",
      "source": [],
      "metadata": {
        "id": "t3krH9pl_Rtp"
      },
      "execution_count": null,
      "outputs": []
    },
    {
      "cell_type": "code",
      "source": [],
      "metadata": {
        "id": "cYjkaXtz_RwB"
      },
      "execution_count": null,
      "outputs": []
    }
  ]
}