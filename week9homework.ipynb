{
  "nbformat": 4,
  "nbformat_minor": 0,
  "metadata": {
    "colab": {
      "provenance": [],
      "collapsed_sections": [],
      "authorship_tag": "ABX9TyOuL5mc4v+NWsXjUbTpE1xg",
      "include_colab_link": true
    },
    "kernelspec": {
      "name": "python3",
      "display_name": "Python 3"
    },
    "language_info": {
      "name": "python"
    }
  },
  "cells": [
    {
      "cell_type": "markdown",
      "metadata": {
        "id": "view-in-github",
        "colab_type": "text"
      },
      "source": [
        "<a href=\"https://colab.research.google.com/github/whdo787/database/blob/main/week9homework.ipynb\" target=\"_parent\"><img src=\"https://colab.research.google.com/assets/colab-badge.svg\" alt=\"Open In Colab\"/></a>"
      ]
    },
    {
      "cell_type": "code",
      "execution_count": 35,
      "metadata": {
        "id": "ndXJfq321lkB"
      },
      "outputs": [],
      "source": [
        "from sqlalchemy import create_engine\n",
        "my_conn = create_engine(\"sqlite:////content/WEEK9.db\")"
      ]
    },
    {
      "cell_type": "code",
      "source": [
        "r_set = my_conn.execute('''select *\n",
        "from instructor''')\n",
        "for row in r_set:\n",
        "  print(row)"
      ],
      "metadata": {
        "colab": {
          "base_uri": "https://localhost:8080/"
        },
        "id": "Z-QxK6oKa5tV",
        "outputId": "78661e81-9be1-4643-bb43-825dc4b5e2e3"
      },
      "execution_count": 67,
      "outputs": [
        {
          "output_type": "stream",
          "name": "stdout",
          "text": [
            "(14365, 'lembr', 'acccounting', 32241)\n",
            "(15347, 'bawa', 'athletics', 72140)\n",
            "(16807, 'yazdi', 'athletics', 98333)\n",
            "(19368, 'wieland', 'pol.sci.', 124651)\n",
            "(22591, 'dagostino', 'psychology', 59706)\n",
            "(25946, 'liley', 'languages', 90891)\n"
          ]
        }
      ]
    },
    {
      "cell_type": "code",
      "source": [
        "r_set = my_conn.execute('''select *\n",
        "from teach''')\n",
        "for row in r_set:\n",
        "  print(row)"
      ],
      "metadata": {
        "colab": {
          "base_uri": "https://localhost:8080/"
        },
        "id": "C-3C-zZ9YJm9",
        "outputId": "98b0cf2f-a09c-4b1c-cea7-c8f04d69dcb8"
      },
      "execution_count": 66,
      "outputs": [
        {
          "output_type": "stream",
          "name": "stdout",
          "text": [
            "(43779, 105, 1, 'fall', 2009)\n",
            "(43779, 105, 2, 'fall', 2002)\n",
            "(6569, 137, 1, 'spring', 2002)\n",
            "(90376, 158, 1, 'fall', 2008)\n",
            "(99052, 158, 2, 'spring', 2008)\n",
            "(3199, 169, 1, 'spring', 2007)\n",
            "(3199, 169, 2, 'fall', 2002)\n"
          ]
        }
      ]
    },
    {
      "cell_type": "code",
      "source": [
        "r_set = my_conn.execute('''select courseid, decode(name, null, name, '-') as name\n",
        "from teach natural left outer JOIN instructor\n",
        "WHERE semester = 'spring' ''')\n",
        "for row in r_set:\n",
        "  print(row)"
      ],
      "metadata": {
        "colab": {
          "base_uri": "https://localhost:8080/"
        },
        "id": "6fnXLjfrUasG",
        "outputId": "e5612f10-21a6-4818-9040-416020517228"
      },
      "execution_count": 87,
      "outputs": [
        {
          "output_type": "stream",
          "name": "stdout",
          "text": [
            "(137, None)\n",
            "(158, None)\n",
            "(169, None)\n"
          ]
        }
      ]
    },
    {
      "cell_type": "markdown",
      "source": [
        "question: when I try to use decode(name, null, name, '-') as name, the error ocurrs. I don't know what's wrong. "
      ],
      "metadata": {
        "id": "lr84caz0f0A2"
      }
    },
    {
      "cell_type": "code",
      "source": [
        "wr_set = my_conn.execute('''select dept_name, count(name) as 'instructor coutnt'\n",
        "from instructor\n",
        "group by dept_name''')\n",
        "for row in r_set:\n",
        "  print(row)"
      ],
      "metadata": {
        "colab": {
          "base_uri": "https://localhost:8080/"
        },
        "id": "5RrkUbnWUaul",
        "outputId": "06d2b4f1-4556-4991-9094-abd671557169"
      },
      "execution_count": 89,
      "outputs": [
        {
          "output_type": "stream",
          "name": "stdout",
          "text": [
            "('acccounting', 1)\n",
            "('athletics', 2)\n",
            "('languages', 1)\n",
            "('pol.sci.', 1)\n",
            "('psychology', 1)\n"
          ]
        }
      ]
    },
    {
      "cell_type": "code",
      "source": [
        "\n"
      ],
      "metadata": {
        "id": "cvtJOWjn2isw"
      },
      "execution_count": 22,
      "outputs": []
    }
  ]
}